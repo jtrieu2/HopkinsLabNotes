{
 "cells": [
  {
   "cell_type": "code",
   "execution_count": 1,
   "metadata": {},
   "outputs": [],
   "source": [
    "import SimpleITK as sitk\n",
    "import os\n",
    "import matplotlib.pyplot as plt\n",
    "import numpy as np\n",
    "%matplotlib inline\n"
   ]
  },
  {
   "cell_type": "code",
   "execution_count": 2,
   "metadata": {},
   "outputs": [],
   "source": [
    "# Function for grabbing the max dimensions from a set of images \n",
    "def get_max_dimensions(files):\n",
    "    file_dimensions = []\n",
    "    max1 = 0; max2 = 0;\n",
    "    for file in files:\n",
    "        # read file \n",
    "        itkimage = sitk.ReadImage(file)\n",
    "\n",
    "        # get dimension\n",
    "        dimension = itkimage.GetSize()\n",
    "        file_dimensions.append(dimension)\n",
    "\n",
    "        # get the maximum largest x and largest y dimensions of the imageset\n",
    "        if dimension[0] > max1:\n",
    "            max1 = dimension[0]\n",
    "        if dimension[1] > max2:\n",
    "            max2 = dimension[1]\n",
    "            \n",
    "    return max1, max2, file_dimensions\n"
   ]
  },
  {
   "cell_type": "code",
   "execution_count": 7,
   "metadata": {},
   "outputs": [
    {
     "name": "stdout",
     "output_type": "stream",
     "text": [
      "['WK0145_OT75_SMI.img', 'WK0145_OT115_SMI.img', 'WK0145_OT55_SMI.img', 'WK0145_OT155_SMI.img', 'WK0145_OT135_SMI.img', 'WK0145_OT95_SMI.img']\n",
      "['WK0145_OT55_SMI.img', 'WK0145_OT75_SMI.img', 'WK0145_OT95_SMI.img', 'WK0145_OT115_SMI.img', 'WK0145_OT135_SMI.img', 'WK0145_OT155_SMI.img']\n",
      "[(5930, 2113, 1), (4662, 2687, 1), (5609, 2234, 1), (5608, 2234, 1), (5267, 2379, 1), (5069, 2472, 1)]\n"
     ]
    }
   ],
   "source": [
    "# Change filepath to get to where files are saved\n",
    "filepath = '/Users/jennytrieu/Desktop/Lab/Deafcats_Images'\n",
    "os.chdir(filepath)\n",
    "\n",
    "# Create list of filenames\n",
    "files = [filename for filename in os.listdir(filepath) if filename.endswith(\".img\") and filename.find('OT') != -1]\n",
    "print(files)\n",
    "files = ['WK0145_OT55_SMI.img', 'WK0145_OT75_SMI.img',\n",
    "         'WK0145_OT95_SMI.img', 'WK0145_OT115_SMI.img',\n",
    "         'WK0145_OT135_SMI.img', 'WK0145_OT155_SMI.img']\n",
    "print(files)\n",
    "\n",
    "# order the files\n",
    "\n",
    "# Get max dimensions of the files\n",
    "[max_x, max_y, file_dimensions] = get_max_dimensions(files)\n",
    "print(file_dimensions)\n",
    "\n",
    "size = [max_x,max_y,1]\n",
    "\n",
    "resampled_images = []\n",
    "for i,file in enumerate(files):\n",
    "    resampled_image = sitk.Resample(sitk.ReadImage(files[i]),\n",
    "                                size,\n",
    "                                sitk.AffineTransform(3), \n",
    "                                sitk.sitkLinear,\n",
    "                                (0,0,0),\n",
    "                                (0.004,0.004,1),\n",
    "                                (1,0,0,0,1,0,0,0,1),0.0)\n",
    "    resampled_images.append(resampled_image)\n",
    "\n",
    "volume_images = sitk.JoinSeries(resampled_images)\n",
    "sitk.WriteImage(volume_images, 'WK0145_SMI_v3.img', True) \n",
    "\n",
    "\n",
    "# # Pad images such that all have dimensions of max dimension\n",
    "# images = []    \n",
    "# for idx,file in enumerate(files):\n",
    "#     x_pad = max_x - file_dimensions[idx][0]\n",
    "#     y_pad = max_y - file_dimensions[idx][1]\n",
    "#     z_pad = 0\n",
    "#     image = sitk.ReadImage(file)\n",
    "#     image = sitk.ConstantPad(image, [0,0,0], [x_pad,y_pad,z_pad], 0)\n",
    "#     images.append(image)\n",
    "    \n",
    "# # Problem using join series unless the spacing is within tolerance\n",
    "# for image in images:\n",
    "#     print(image.GetSpacing())\n",
    "#     image.SetSpacing([0.004,0.004,0.004])\n",
    "#     print(image.GetSpacing())\n",
    "\n",
    "# volume_images = sitk.JoinSeries(images)\n",
    "# sitk.WriteImage(volume_images, 'WK0145_SMI.img', True) \n",
    "\n",
    "    \n",
    "\n"
   ]
  },
  {
   "cell_type": "code",
   "execution_count": null,
   "metadata": {},
   "outputs": [],
   "source": []
  },
  {
   "cell_type": "code",
   "execution_count": null,
   "metadata": {},
   "outputs": [],
   "source": []
  },
  {
   "cell_type": "code",
   "execution_count": null,
   "metadata": {},
   "outputs": [],
   "source": []
  }
 ],
 "metadata": {
  "kernelspec": {
   "display_name": "Python 3",
   "language": "python",
   "name": "python3"
  },
  "language_info": {
   "codemirror_mode": {
    "name": "ipython",
    "version": 3
   },
   "file_extension": ".py",
   "mimetype": "text/x-python",
   "name": "python",
   "nbconvert_exporter": "python",
   "pygments_lexer": "ipython3",
   "version": "3.7.4"
  }
 },
 "nbformat": 4,
 "nbformat_minor": 2
}
