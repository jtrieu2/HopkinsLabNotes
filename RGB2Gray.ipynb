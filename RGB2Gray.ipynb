{
 "cells": [
  {
   "cell_type": "code",
   "execution_count": 16,
   "metadata": {},
   "outputs": [],
   "source": [
    "import sys\n",
    "sys.path.insert(0,'/cis/home/leebc/Projects/Mouse_Histology/code/pytorch/') # add code directory to path\n",
    "# import numpy\n",
    "import numpy as np\n",
    "# import matplotlib for display\n",
    "import matplotlib.pyplot as plt\n",
    "%matplotlib inline\n",
    "import SimpleITK as sitk\n",
    "import os"
   ]
  },
  {
   "cell_type": "code",
   "execution_count": 8,
   "metadata": {},
   "outputs": [],
   "source": [
    "def myshow(img, title=None, margin=0.05, dpi=80):\n",
    "    nda = sitk.GetArrayFromImage(img)\n",
    "    spacing = img.GetSpacing()\n",
    "\n",
    "    if nda.ndim == 3:\n",
    "        # fastest dim, either component or x\n",
    "        c = nda.shape[-1]\n",
    "\n",
    "        # the the number of components is 3 or 4 consider it an RGB image\n",
    "        if c not in (3, 4):\n",
    "            nda = nda[nda.shape[0] // 2, :, :]\n",
    "\n",
    "    elif nda.ndim == 4:\n",
    "        c = nda.shape[-1]\n",
    "\n",
    "        if c not in (3, 4):\n",
    "            raise RuntimeError(\"Unable to show 3D-vector Image\")\n",
    "\n",
    "        # take a z-slice\n",
    "        nda = nda[nda.shape[0] // 2, :, :, :]\n",
    "\n",
    "    xsize = nda.shape[1]\n",
    "    ysize = nda.shape[0]\n",
    "\n",
    "    # Make a figure big enough to accommodate an axis of xpixels by ypixels\n",
    "    # as well as the ticklabels, etc...\n",
    "    figsize = (1 + margin) * xsize / dpi, (1 + margin) * ysize / dpi\n",
    "\n",
    "    plt.figure(figsize=figsize, dpi=dpi, tight_layout=True)\n",
    "    ax = plt.gca()\n",
    "\n",
    "    extent = (0, xsize * spacing[0], ysize * spacing[1], 0)\n",
    "\n",
    "    t = ax.imshow(nda, extent=extent, interpolation=None)\n",
    "\n",
    "    if nda.ndim == 2:\n",
    "        t.set_cmap(\"gray\")\n",
    "\n",
    "    if(title):\n",
    "        plt.title(title, fontdict = {'fontsize' : 200})\n",
    "\n",
    "    plt.show()"
   ]
  },
  {
   "cell_type": "markdown",
   "metadata": {},
   "source": [
    "**Converting Images from RGB to Grayscale because Thresholding on ImageJ only works with grayscale images**"
   ]
  },
  {
   "cell_type": "code",
   "execution_count": 33,
   "metadata": {},
   "outputs": [
    {
     "name": "stdout",
     "output_type": "stream",
     "text": [
      "0\n",
      "1\n",
      "2\n",
      "3\n",
      "4\n",
      "5\n",
      "6\n",
      "7\n",
      "8\n",
      "9\n",
      "10\n",
      "11\n",
      "12\n",
      "13\n",
      "14\n",
      "15\n",
      "16\n",
      "17\n",
      "18\n",
      "19\n",
      "20\n",
      "21\n",
      "22\n",
      "23\n",
      "24\n",
      "25\n",
      "26\n",
      "27\n",
      "28\n",
      "29\n",
      "30\n",
      "31\n",
      "32\n",
      "33\n",
      "34\n",
      "35\n"
     ]
    }
   ],
   "source": [
    "from PIL import Image\n",
    "\n",
    "# Change filepath to get to where files are saved\n",
    "filepath = '/cis/home/jtrieu/Documents/HannoverResampled/'\n",
    "os.chdir(filepath)\n",
    "\n",
    "files = os.listdir(filepath)\n",
    "\n",
    "for count,file in enumerate(files):\n",
    "    print(count)\n",
    "    filepath = '/cis/home/jtrieu/Documents/HannoverResampled/'\n",
    "    os.chdir(filepath)\n",
    "    img = sitk.ReadImage(file)\n",
    "    img_arr = sitk.GetArrayFromImage(img)\n",
    "    gray_sc = np.dot(img_arr,[0.299,0.587,0.144])\n",
    "    gray_sc = gray_sc.astype(np.int8)\n",
    "    gray_sc_im = sitk.GetImageFromArray(gray_sc)\n",
    "    filepath = '/cis/home/jtrieu/Documents/HannoverResampledGray/'\n",
    "    os.chdir(filepath)\n",
    "    sitk.WriteImage(gray_sc_im, str(count)+'gray.tif')\n"
   ]
  },
  {
   "cell_type": "code",
   "execution_count": null,
   "metadata": {},
   "outputs": [],
   "source": []
  }
 ],
 "metadata": {
  "kernelspec": {
   "display_name": "Python 3",
   "language": "python",
   "name": "python3"
  }
 },
 "nbformat": 4,
 "nbformat_minor": 2
}
