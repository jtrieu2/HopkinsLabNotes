{
 "cells": [
  {
   "cell_type": "code",
   "execution_count": 4,
   "metadata": {},
   "outputs": [],
   "source": [
    "import sys\n",
    "sys.path.insert(0,'/cis/home/leebc/Projects/Mouse_Histology/code/pytorch/') # add code directory to path\n",
    "# import lddmm\n",
    "import torch_lddmm\n",
    "# import numpy\n",
    "import numpy as np\n",
    "# import nibabel for i/o\n",
    "import nibabel as nib\n",
    "# import matplotlib for display\n",
    "import matplotlib.pyplot as plt\n",
    "import torch\n",
    "import SimpleITK as sitk"
   ]
  },
  {
   "cell_type": "code",
   "execution_count": 15,
   "metadata": {},
   "outputs": [],
   "source": [
    "def get_max_dimensions(files):\n",
    "    file_dimensions = []\n",
    "    file_spacing = []\n",
    "    \n",
    "    max1 = 0; max2 = 0;\n",
    "    for file in files:\n",
    "        # read file \n",
    "        itkimage = sitk.ReadImage(file)\n",
    "\n",
    "        # get dimension\n",
    "        dimension = itkimage.GetSize()\n",
    "        spacing = itkimage.GetSpacing()\n",
    "        file_dimensions.append(dimension)\n",
    "        file_spacing.append(spacing)\n",
    "        print(dimension, spacing)\n",
    "\n",
    "        # get the maximum largest x and largest y dimensions of the imageset\n",
    "        if dimension[0] > max1:\n",
    "            max1 = dimension[0]\n",
    "        if dimension[1] > max2:\n",
    "            max2 = dimension[1]\n",
    "            \n",
    "    return max1, max2, file_dimensions, file_spacing"
   ]
  },
  {
   "cell_type": "code",
   "execution_count": 26,
   "metadata": {},
   "outputs": [
    {
     "name": "stdout",
     "output_type": "stream",
     "text": [
      "(25726, 18002) (1.0, 1.0)\n",
      "(26659, 18708) (1.0, 1.0)\n",
      "(28584, 18675) (1.0, 1.0)\n",
      "(27649, 18719) (1.0, 1.0)\n",
      "(25715, 17277) (1.0, 1.0)\n",
      "(27673, 18668) (1.0, 1.0)\n",
      "(22867, 19422) (1.0, 1.0)\n",
      "(26668, 20854) (1.0, 1.0)\n",
      "(27598, 19425) (1.0, 1.0)\n",
      "(24730, 20138) (1.0, 1.0)\n",
      "(26660, 20141) (1.0, 1.0)\n",
      "(26663, 20154) (1.0, 1.0)\n",
      "(28586, 19386) (1.0, 1.0)\n",
      "(27611, 20849) (1.0, 1.0)\n",
      "(26669, 19435) (1.0, 1.0)\n",
      "(27561, 20131) (1.0, 1.0)\n",
      "(28593, 18687) (1.0, 1.0)\n",
      "(25723, 20107) (1.0, 1.0)\n",
      "(28696, 19436) (1.0, 1.0)\n",
      "(27583, 18715) (1.0, 1.0)\n",
      "(28604, 18697) (1.0, 1.0)\n",
      "(27626, 20138) (1.0, 1.0)\n",
      "(29480, 19424) (1.0, 1.0)\n",
      "(30465, 18701) (1.0, 1.0)\n",
      "(29499, 20148) (1.0, 1.0)\n",
      "(29512, 17968) (1.0, 1.0)\n",
      "(27586, 19438) (1.0, 1.0)\n",
      "(30492, 18010) (1.0, 1.0)\n",
      "(28560, 18687) (1.0, 1.0)\n",
      "(26647, 18816) (1.0, 1.0)\n",
      "(26671, 17263) (1.0, 1.0)\n",
      "(26689, 16555) (1.0, 1.0)\n",
      "(24774, 17267) (1.0, 1.0)\n",
      "(23823, 15852) (1.0, 1.0)\n",
      "(22832, 15137) (1.0, 1.0)\n",
      "(22890, 15839) (1.0, 1.0)\n"
     ]
    }
   ],
   "source": [
    "import os \n",
    "filepath='/cis/project/auditory/deafcats/dat/hannover/'\n",
    "os.chdir(filepath)\n",
    "\n",
    "files = ['WK1D29_OT005.tif', 'WK1D29_OT009.tif', 'WK1D29_OT015.tif', 'WK1D29_OT019.tif',\n",
    "         'WK1D29_OT025.tif', 'WK1D29_OT029.tif', 'WK1D29_OT035.tif', 'WK1D29_OT039.tif',\n",
    "         'WK1D29_OT045.tif', 'WK1D29_OT049.tif', 'WK1D29_OT055.tif', 'WK1D29_OT059.tif',\n",
    "         'WK1D29_OT065.tif', 'WK1D29_OT069.tif', 'WK1D29_OT075.tif', 'WK1D29_OT079.tif',\n",
    "         'WK1D29_OT085.tif', 'WK1D29_OT089.tif', 'WK1D29_OT095.tif', 'WK1D29_OT099.tif',\n",
    "         'WK1D29_OT105.tif', 'WK1D29_OT115.tif', 'WK1D29_OT125.tif', 'WK1D29_OT135.tif',\n",
    "         'WK1D29_OT145.tif', 'WK1D29_OT155.tif', 'WK1D29_OT165.tif', 'WK1D29_OT175.tif',\n",
    "         'WK1D29_OT185.tif', 'WK1D29_OT195.tif', 'WK1D29_OT205.tif', 'WK1D29_OT215.tif',\n",
    "         'WK1D29_OT225.tif', 'WK1D29_OT235.tif', 'WK1D29_OT245.tif', 'WK1D29_OT255.tif']\n",
    "\n",
    "[max_x,max_y, file_dimensions, file_spacing] = get_max_dimensions(files)\n",
    "size = [max_x, max_y, 1]"
   ]
  },
  {
   "cell_type": "code",
   "execution_count": 48,
   "metadata": {},
   "outputs": [
    {
     "name": "stdout",
     "output_type": "stream",
     "text": [
      "[3811, 2606]\n",
      "0\n",
      "1\n",
      "2\n",
      "3\n",
      "4\n",
      "5\n",
      "6\n",
      "7\n",
      "8\n",
      "9\n",
      "10\n",
      "11\n",
      "12\n",
      "13\n",
      "14\n",
      "15\n",
      "16\n",
      "17\n",
      "18\n",
      "19\n",
      "20\n",
      "21\n",
      "22\n",
      "23\n",
      "24\n",
      "25\n",
      "26\n",
      "27\n",
      "28\n",
      "29\n",
      "30\n",
      "31\n",
      "32\n",
      "33\n",
      "34\n",
      "35\n"
     ]
    }
   ],
   "source": [
    "# Downsample images by factor of 0.5\n",
    "factor = 0.125\n",
    "size = [int(factor*max_x),int(factor*max_y)]\n",
    "# Keep spacing the same\n",
    "\n",
    "print(size)\n",
    "for count,file in enumerate(files):\n",
    "    print(count)\n",
    "    # Read image from Hannover File Path in Cis Projects\n",
    "    filepath='/cis/project/auditory/deafcats/dat/hannover/'\n",
    "    os.chdir(filepath)\n",
    "    img = sitk.ReadImage(file)\n",
    "    spacing = (1/factor)*np.array(img.GetSpacing())\n",
    "    resampled_image = sitk.Resample(img,size,sitk.AffineTransform(2),sitk.sitkLinear,[0,0], spacing)\n",
    "    \n",
    "    # Save resampled images to my home directory\n",
    "    filepath = '/cis/home/jtrieu/Documents/HannoverResampled/'\n",
    "    os.chdir(filepath)\n",
    "    sitk.WriteImage(resampled_image, str(count)+'.tif')\n",
    "\n",
    "    "
   ]
  },
  {
   "cell_type": "code",
   "execution_count": 34,
   "metadata": {},
   "outputs": [
    {
     "name": "stdout",
     "output_type": "stream",
     "text": [
      "Help on function Resample in module SimpleITK.SimpleITK:\n",
      "\n",
      "Resample(*args)\n",
      "    Resample(Image image1, Transform transform, itk::simple::InterpolatorEnum interpolator, double defaultPixelValue=0.0, itk::simple::PixelIDValueEnum outputPixelType) -> Image\n",
      "    Resample(Image image1, Image referenceImage, Transform transform, itk::simple::InterpolatorEnum interpolator, double defaultPixelValue=0.0, itk::simple::PixelIDValueEnum outputPixelType) -> Image\n",
      "    Resample(Image image1, VectorUInt32 size, Transform transform, itk::simple::InterpolatorEnum interpolator, VectorDouble outputOrigin, VectorDouble outputSpacing, VectorDouble outputDirection, double defaultPixelValue=0.0, itk::simple::PixelIDValueEnum outputPixelType) -> Image\n",
      "\n"
     ]
    }
   ],
   "source": []
  },
  {
   "cell_type": "code",
   "execution_count": null,
   "metadata": {},
   "outputs": [],
   "source": []
  }
 ],
 "metadata": {
  "kernelspec": {
   "display_name": "Python 3",
   "language": "python",
   "name": "python3"
  },
  "language_info": {
   "codemirror_mode": {
    "name": "ipython",
    "version": 3
   },
   "file_extension": ".py",
   "mimetype": "text/x-python",
   "name": "python",
   "nbconvert_exporter": "python",
   "pygments_lexer": "ipython3",
   "version": "3.6.5"
  }
 },
 "nbformat": 4,
 "nbformat_minor": 2
}
